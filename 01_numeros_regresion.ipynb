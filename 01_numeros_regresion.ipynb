{
  "cells": [
    {
      "cell_type": "markdown",
      "metadata": {
        "id": "aL4MBJLJG0hQ"
      },
      "source": [
        "# Regresión logística aplicada al corpus y tarea Iris"
      ]
    },
    {
      "cell_type": "markdown",
      "metadata": {
        "id": "jSRmTCXsG0hS"
      },
      "source": [
        "## 1. Lectura del corpus y partición:"
      ]
    },
    {
      "cell_type": "code",
      "execution_count": 11,
      "metadata": {
        "id": "rl9CP8P_G0hU",
        "outputId": "9c12f284-9f8c-4754-bf91-c5b5cb7b7392",
        "colab": {
          "base_uri": "https://localhost:8080/",
          "height": 164
        }
      },
      "outputs": [
        {
          "output_type": "display_data",
          "data": {
            "text/plain": [
              "<Figure size 1600x1600 with 10 Axes>"
            ],
            "image/png": "[encoded data removed]"
          },
          "metadata": {}
        }
      ],
      "source": [
        "import numpy as np\n",
        "from sklearn.datasets import load_digits\n",
        "from sklearn.model_selection import train_test_split\n",
        "\n",
        "# Lectura/carga del corpus\n",
        "digits = load_digits()\n",
        "X = digits.data.astype(np.float16) # muestras\n",
        "y = digits.target.astype(np.uint)  # etiquetas de clase\n",
        "\n",
        "# Partición (80% train, 20% test)\n",
        "X_train, X_test, y_train, y_test = train_test_split(X, y, test_size=0.2, shuffle=True, random_state=22)\n",
        "\n",
        "#mostrar numeros\n",
        "_, axes = plt.subplots(nrows=1, ncols=10, figsize=(16, 16))\n",
        "for ax, image, label in zip(axes, digits.images, digits.target):\n",
        "    ax.set_axis_off()\n",
        "    ax.imshow(image, cmap=plt.cm.gray_r, interpolation=\"none\")\n",
        "    ax.set_title(\"Mostra {!s}\".format(label))"
      ]
    },
    {
      "cell_type": "markdown",
      "metadata": {
        "id": "SxCjELtIG0hV"
      },
      "source": [
        "## 2. Regresión logística\n",
        "\n",
        "Usamos la implementación de regresión logística (clase [LogisticRegression](https://scikit-learn.org/stable/modules/generated/sklearn.linear_model.LogisticRegression.html)) de la librería [sklearn](https://scikit-learn.org/)."
      ]
    },
    {
      "cell_type": "code",
      "execution_count": 4,
      "metadata": {
        "id": "E4oxHwAnG0i4",
        "outputId": "8a6ccb50-d68e-4279-e466-7741328c902a",
        "colab": {
          "base_uri": "https://localhost:8080/"
        }
      },
      "outputs": [
        {
          "output_type": "stream",
          "name": "stdout",
          "text": [
            "Error de test: 2.8%\n"
          ]
        }
      ],
      "source": [
        "from sklearn.linear_model import LogisticRegression\n",
        "from sklearn.metrics import accuracy_score\n",
        "\n",
        "# Código para filtrar los (molestos) warnings de sklearn sobre convergencia\n",
        "import warnings\n",
        "from sklearn.exceptions import ConvergenceWarning\n",
        "warnings.filterwarnings(\"ignore\", category=ConvergenceWarning, module=\"sklearn\")\n",
        "\n",
        "# entrenamiento\n",
        "model = LogisticRegression(random_state=22).fit(X_train, y_train)\n",
        "\n",
        "# clasificación (test)\n",
        "y_test_pred = model.predict(X_test)\n",
        "\n",
        "# cálculo tasa de error de test\n",
        "err_test = 1 - accuracy_score(y_test, y_test_pred)\n",
        "print(f\"Error de test: {err_test:.1%}\")"
      ]
    },
    {
      "cell_type": "markdown",
      "metadata": {
        "id": "eZn5W25JG0i6"
      },
      "source": [
        "## 3. Ajuste de hiperparámetros\n",
        "\n",
        "A continuación se describen algunos hiperparámetros del [método constructor `LogisticRegression()`](https://scikit-learn.org/stable/modules/generated/sklearn.linear_model.LogisticRegression.html#sklearn.linear_model.LogisticRegression) que pueden ser ajustados experimentalmente para minimzar la tasa de error en test."
      ]
    },
    {
      "cell_type": "markdown",
      "metadata": {
        "id": "nx73WAI-G0i7"
      },
      "source": [
        "### 3.1 Tolerancia\n",
        "\n",
        "Como sabemos, el algoritmo de descenso por gradiente actualiza en cada iteración los parámetros del modelo:\n",
        "\n",
        "$$\\boldsymbol{W}_{i+1}=\\boldsymbol{W}_i-\\eta_i\\boldsymbol{\\nabla}\\mathcal{L}(\\boldsymbol{W})\\rvert_{\\boldsymbol{W}_i}\\qquad i=0,1,\\ldots$$\n",
        "\n",
        "El parámetro `tol` establece el umbral de tolerancia mínimo necesario para continuar dicho entrenamiento. Si la magnitud de actualización de parámetros $\\Delta = \\lVert \\,  \\eta_i\\boldsymbol{\\nabla}\\mathcal{L}(\\boldsymbol{\\theta})\\rvert_{\\boldsymbol{\\theta}_i} \\, \\rVert$ es inferior a `tol` ($\\Delta < $ `tol`), el entrenamiento finaliza. Por defecto, `tol = 1e-4`."
      ]
    },
    {
      "cell_type": "code",
      "execution_count": 5,
      "metadata": {
        "id": "Yn8O5wXdG0i8",
        "outputId": "d581603b-dcde-4280-c6cb-e62a6b8edc30",
        "colab": {
          "base_uri": "https://localhost:8080/"
        }
      },
      "outputs": [
        {
          "output_type": "stream",
          "name": "stdout",
          "text": [
            "Error de test con tolerancia 0.0001: 2.8%\n",
            "Error de test con tolerancia 0.01: 3.6%\n",
            "Error de test con tolerancia 1: 18.9%\n",
            "Error de test con tolerancia 100.0: 91.1%\n",
            "Error de test con tolerancia 10000.0: 91.1%\n"
          ]
        }
      ],
      "source": [
        "for tol in (1e-4, 1e-2, 1, 1e2, 1e4):\n",
        "    model = LogisticRegression(tol=tol, random_state=22).fit(X_train, y_train)\n",
        "    err_test = 1 - accuracy_score(y_test, model.predict(X_test))\n",
        "    print(f\"Error de test con tolerancia {tol}: {err_test:.1%}\")"
      ]
    },
    {
      "cell_type": "markdown",
      "metadata": {
        "id": "kp5MXUkZG0i9"
      },
      "source": [
        "### 3.2 Regularización\n",
        "\n",
        "La regularización en aprendizaje automático es una técnica utilizada para evitar el sobreajuste (overfitting) de los modelos. El sobreajuste ocurre cuando un modelo se ajusta demasiado a los datos de entrenamiento, pero falla en generalizar a nuevos datos. La regularización introduce una penalización o coste adicional en la función de riesgo empírico o pérdida $\\mathcal{L}(\\mathbf{\\theta})$, desincentivando la complejidad excesiva del modelo (p.e. pesos $w_k$ demasiado grandes) y forzándolo a enfocarse en patrones más generales.\n",
        "\n",
        "En regresión logística, reescribimos la función de riesgo empírico $\\mathcal{L}$ como la $\\operatorname{NLL}(\\mathbf{W})$, a la que se añade un término o función regularizadora $r(\\mathbf{W})$ escalada con un hiperparámetro de ajuste $C$:\n",
        "\n",
        "$$ \\mathcal{L}(\\mathbf{W}) = \\operatorname{NLL}(\\mathbf{W}) + \\frac{r(\\mathbf{W})}{C} $$\n",
        "\n",
        "`LogisticRegression` añade por defecto una regularización del criterio de entrenamiento basada en la norma $\\ell_2$:\n",
        "\n",
        "$$ r(\\mathbf{W}) = \\lambda \\, \\lVert \\mathbf{W} \\rVert_2^2$$\n",
        "\n",
        "con $\\lambda = \\frac{1}{2}$ (más detalles [aquí](https://scikit-learn.org/stable/modules/linear_model.html#logistic-regression)). Entonces:\n",
        "\n",
        "$$ \\mathcal{L}(\\mathbf{W}) = \\operatorname{NLL}(\\mathbf{W}) +  \\frac{\\frac{1}{2} \\, \\lVert \\mathbf{W} \\rVert_2^2}{C} = \\operatorname{NLL}(\\mathbf{W}) + \\frac{\\sum_{i=0}^D \\sum_{j=1}^{K} \\mathbf{W}_{i,j}^2}{2C}$$\n",
        "\n",
        "El propósito de esta regularización es evitar un sobre-ajuste del modelo a los datos de entrenamiento, apostando por unos parámetros más sencillos (más próximos a cero):\n",
        "\n",
        "$$\\mathbf{W}^*=\\operatorname*{argmin}_{\\mathbf{W}}\\;\\mathcal{L}(\\mathbf{W}) = \\operatorname{NLL}(\\mathbf{W}) + \\frac{\\sum_{i=0}^D \\sum_{j=0}^{K-1} \\mathbf{W}_{i,j}^2}{2C} $$\n",
        "\n",
        "El hiperparámetro $C$ (positivo, $1.0$ por defecto) permite ajustar a la inversa la magnitud de dicha regularización:\n",
        "* **Máxima regularización** (sub-ajuste a los datos de train): $\\;$ con un valor de `C` próximo a cero.\n",
        "* **Mínima regularización** (sobre-ajuste a los datos de train): $\\;$ con un valor de `C` positivo muy alto."
      ]
    },
    {
      "cell_type": "code",
      "execution_count": 6,
      "metadata": {
        "id": "17Z0U7GEG0i9",
        "outputId": "986337db-2a8a-454b-f499-20fff67130b9",
        "colab": {
          "base_uri": "https://localhost:8080/"
        }
      },
      "outputs": [
        {
          "output_type": "stream",
          "name": "stdout",
          "text": [
            "Error de test con C 0.001: 4.2%\n",
            "Error de test con C 0.01: 2.5%\n",
            "Error de test con C 0.1: 2.2%\n",
            "Error de test con C 1: 2.8%\n",
            "Error de test con C 10: 3.3%\n",
            "Error de test con C 100: 3.3%\n"
          ]
        }
      ],
      "source": [
        "for C in (1e-3, 1e-2, 1e-1, 1, 1e1, 1e2):\n",
        "    model = LogisticRegression(C=C, random_state=22).fit(X_train, y_train)\n",
        "    err_test = 1 - accuracy_score(y_test, model.predict(X_test))\n",
        "    print(f\"Error de test con C {C:g}: {err_test:.1%}\")"
      ]
    },
    {
      "cell_type": "markdown",
      "metadata": {
        "id": "xrxp0dq_G0i-"
      },
      "source": [
        "### 3.3 Número de iteraciones máximas\n",
        "\n",
        "El parámetro `max_iter` ($100$ por defecto) permite ajustar el número total de iteraciones del algoritmo de optimización. Ajustaremos este número basándonos en el criterio *Early stopping*: detenemos el entrenamiento lo más pronto posible (en pocas iteraciones) para evitar un sobre-entrenamiento del modelo."
      ]
    },
    {
      "cell_type": "code",
      "execution_count": 7,
      "metadata": {
        "id": "5VkyRaQ3G0i-",
        "outputId": "6325f51d-a585-4706-cd8f-68801f5c241d",
        "colab": {
          "base_uri": "https://localhost:8080/"
        }
      },
      "outputs": [
        {
          "output_type": "stream",
          "name": "stdout",
          "text": [
            "Error de test con max_iter 10: 3.6%\n",
            "Error de test con max_iter 20: 4.2%\n",
            "Error de test con max_iter 50: 3.1%\n",
            "Error de test con max_iter 100: 2.8%\n"
          ]
        }
      ],
      "source": [
        "for max_iter in (10, 20, 50, 100):\n",
        "    model = LogisticRegression(random_state=22, max_iter=max_iter).fit(X_train, y_train)\n",
        "    err_test = 1 - accuracy_score(y_test, model.predict(X_test))\n",
        "    print(f\"Error de test con max_iter {max_iter}: {err_test:.1%}\")"
      ]
    },
    {
      "cell_type": "markdown",
      "metadata": {
        "id": "77--7w-LG0i_"
      },
      "source": [
        "## 4. Ejercicio\n",
        "\n",
        "Realiza una exploración combinada de diferentes hiperparámetros, calculando las tasas de error en train y test para cada experimento, mostrándolas en una tabla de resultados (similar a la del [cuaderno del Perceptrón](../P2.S2%20Perceptrón/01_iris.ipynb)). A partir de esta información, determina los valores óptimos de los hiperparámetros. Recuerda que, como regla general, **seleccionaremos el conjunto de valores de hiperparámeros que minimicen la tasa de error en test**."
      ]
    },
    {
      "cell_type": "code",
      "source": [
        "\n",
        "err_test_minimo = [1,0,0,0]\n",
        "err_train_minimo = [1,0,0,0]\n",
        "\n",
        "\n",
        "print(\"# {:>6s}\\t{:>8s}\\t{:>4s}\\t{:>8s}\\t{:>13s}\".format(\"C\",\"max_iter\",\"tol\",\"ERROR TEST\",\"ERROR TRAIN\"));\n",
        "for C in (1e-3, 1e-2, 1e-1, 1, 1e1, 1e2):\n",
        "  for max_iter in (10, 20, 50, 100):\n",
        "    for tol in (1e-4, 1e-2, 1, 1e2, 1e4):\n",
        "      model = LogisticRegression(C = C, tol = tol, max_iter=max_iter ,random_state=22).fit(X_train, y_train)\n",
        "\n",
        "\n",
        "      err_test = 1 - accuracy_score(y_test, model.predict(X_test))\n",
        "\n",
        "      if err_test < err_test_minimo[0]:\n",
        "        err_test_minimo = [err_test,C,max_iter,tol]\n",
        "\n",
        "\n",
        "      err_train = 1 - accuracy_score(y_train, model.predict(X_train))\n",
        "\n",
        "      if err_train < err_train_minimo[0]:\n",
        "        err_train_minimo = [err_train,C,max_iter,tol]\n",
        "\n",
        "      print(\"{:8.3f}{:15.2f}{:13.4f}\\t{:10.5%}\\t{:13.5%} \".format(C,max_iter,tol,err_test, err_train));\n",
        "\n",
        "print(\"\\nel error de test mínimo ha sido de {:5%} con un nos valores de C, iteraciones máximas y tolerancia de : {:.3f}, {:.2f} y {:4f}\".format(err_test_minimo[0],err_test_minimo[1],err_test_minimo[2],err_test_minimo[3]))\n",
        "print(\"el error de entrenamiento mínimo ha sido de {:5%} con un nos valores de C, iteraciones máximas y tolerancia de : {:.3f}, {:.2f} y {:.4f}\".format(err_train_minimo[0],err_train_minimo[1],err_train_minimo[2],err_train_minimo[3]))"
      ],
      "metadata": {
        "colab": {
          "base_uri": "https://localhost:8080/"
        },
        "id": "sWjGo9rfJVC8",
        "outputId": "753efc97-9cfe-4129-a744-130f1b8e756e"
      },
      "execution_count": 8,
      "outputs": [
        {
          "output_type": "stream",
          "name": "stdout",
          "text": [
            "#      C\tmax_iter\t tol\tERROR TEST\t  ERROR TRAIN\n",
            "   0.001          10.00       0.0001\t  4.16667%\t     3.61865% \n",
            "   0.001          10.00       0.0100\t  4.16667%\t     3.61865% \n",
            "   0.001          10.00       1.0000\t 18.88889%\t    16.77105% \n",
            "   0.001          10.00     100.0000\t 91.11111%\t    89.83994% \n",
            "   0.001          10.00   10000.0000\t 91.11111%\t    89.83994% \n",
            "   0.001          20.00       0.0001\t  3.61111%\t     2.99235% \n",
            "   0.001          20.00       0.0100\t  3.61111%\t     2.99235% \n",
            "   0.001          20.00       1.0000\t 18.88889%\t    16.77105% \n",
            "   0.001          20.00     100.0000\t 91.11111%\t    89.83994% \n",
            "   0.001          20.00   10000.0000\t 91.11111%\t    89.83994% \n",
            "   0.001          50.00       0.0001\t  3.33333%\t     2.99235% \n",
            "   0.001          50.00       0.0100\t  3.61111%\t     2.92276% \n",
            "   0.001          50.00       1.0000\t 18.88889%\t    16.77105% \n",
            "   0.001          50.00     100.0000\t 91.11111%\t    89.83994% \n",
            "   0.001          50.00   10000.0000\t 91.11111%\t    89.83994% \n",
            "   0.001         100.00       0.0001\t  4.16667%\t     3.13152% \n",
            "   0.001         100.00       0.0100\t  3.61111%\t     2.92276% \n",
            "   0.001         100.00       1.0000\t 18.88889%\t    16.77105% \n",
            "   0.001         100.00     100.0000\t 91.11111%\t    89.83994% \n",
            "   0.001         100.00   10000.0000\t 91.11111%\t    89.83994% \n",
            "   0.010          10.00       0.0001\t  3.61111%\t     3.54906% \n",
            "   0.010          10.00       0.0100\t  3.61111%\t     3.54906% \n",
            "   0.010          10.00       1.0000\t 18.88889%\t    16.77105% \n",
            "   0.010          10.00     100.0000\t 91.11111%\t    89.83994% \n",
            "   0.010          10.00   10000.0000\t 91.11111%\t    89.83994% \n",
            "   0.010          20.00       0.0001\t  2.50000%\t     1.53097% \n",
            "   0.010          20.00       0.0100\t  2.50000%\t     1.53097% \n",
            "   0.010          20.00       1.0000\t 18.88889%\t    16.77105% \n",
            "   0.010          20.00     100.0000\t 91.11111%\t    89.83994% \n",
            "   0.010          20.00   10000.0000\t 91.11111%\t    89.83994% \n",
            "   0.010          50.00       0.0001\t  2.50000%\t     0.97425% \n",
            "   0.010          50.00       0.0100\t  2.50000%\t     1.11343% \n",
            "   0.010          50.00       1.0000\t 18.88889%\t    16.77105% \n",
            "   0.010          50.00     100.0000\t 91.11111%\t    89.83994% \n",
            "   0.010          50.00   10000.0000\t 91.11111%\t    89.83994% \n",
            "   0.010         100.00       0.0001\t  2.50000%\t     0.97425% \n",
            "   0.010         100.00       0.0100\t  2.50000%\t     1.11343% \n",
            "   0.010         100.00       1.0000\t 18.88889%\t    16.77105% \n",
            "   0.010         100.00     100.0000\t 91.11111%\t    89.83994% \n",
            "   0.010         100.00   10000.0000\t 91.11111%\t    89.83994% \n",
            "   0.100          10.00       0.0001\t  3.61111%\t     3.20111% \n",
            "   0.100          10.00       0.0100\t  3.61111%\t     3.20111% \n",
            "   0.100          10.00       1.0000\t 18.88889%\t    16.77105% \n",
            "   0.100          10.00     100.0000\t 91.11111%\t    89.83994% \n",
            "   0.100          10.00   10000.0000\t 91.11111%\t    89.83994% \n",
            "   0.100          20.00       0.0001\t  2.50000%\t     1.32220% \n",
            "   0.100          20.00       0.0100\t  2.50000%\t     1.32220% \n",
            "   0.100          20.00       1.0000\t 18.88889%\t    16.77105% \n",
            "   0.100          20.00     100.0000\t 91.11111%\t    89.83994% \n",
            "   0.100          20.00   10000.0000\t 91.11111%\t    89.83994% \n",
            "   0.100          50.00       0.0001\t  3.05556%\t     0.06959% \n",
            "   0.100          50.00       0.0100\t  2.77778%\t     0.27836% \n",
            "   0.100          50.00       1.0000\t 18.88889%\t    16.77105% \n",
            "   0.100          50.00     100.0000\t 91.11111%\t    89.83994% \n",
            "   0.100          50.00   10000.0000\t 91.11111%\t    89.83994% \n",
            "   0.100         100.00       0.0001\t  2.22222%\t     0.06959% \n",
            "   0.100         100.00       0.0100\t  2.77778%\t     0.27836% \n",
            "   0.100         100.00       1.0000\t 18.88889%\t    16.77105% \n",
            "   0.100         100.00     100.0000\t 91.11111%\t    89.83994% \n",
            "   0.100         100.00   10000.0000\t 91.11111%\t    89.83994% \n",
            "   1.000          10.00       0.0001\t  3.61111%\t     3.20111% \n",
            "   1.000          10.00       0.0100\t  3.61111%\t     3.20111% \n",
            "   1.000          10.00       1.0000\t 18.88889%\t    16.77105% \n",
            "   1.000          10.00     100.0000\t 91.11111%\t    89.83994% \n",
            "   1.000          10.00   10000.0000\t 91.11111%\t    89.83994% \n",
            "   1.000          20.00       0.0001\t  4.16667%\t     1.73974% \n",
            "   1.000          20.00       0.0100\t  4.16667%\t     1.73974% \n",
            "   1.000          20.00       1.0000\t 18.88889%\t    16.77105% \n",
            "   1.000          20.00     100.0000\t 91.11111%\t    89.83994% \n",
            "   1.000          20.00   10000.0000\t 91.11111%\t    89.83994% \n",
            "   1.000          50.00       0.0001\t  3.05556%\t     0.00000% \n",
            "   1.000          50.00       0.0100\t  3.61111%\t     0.13918% \n",
            "   1.000          50.00       1.0000\t 18.88889%\t    16.77105% \n",
            "   1.000          50.00     100.0000\t 91.11111%\t    89.83994% \n",
            "   1.000          50.00   10000.0000\t 91.11111%\t    89.83994% \n",
            "   1.000         100.00       0.0001\t  2.77778%\t     0.00000% \n",
            "   1.000         100.00       0.0100\t  3.61111%\t     0.13918% \n",
            "   1.000         100.00       1.0000\t 18.88889%\t    16.77105% \n",
            "   1.000         100.00     100.0000\t 91.11111%\t    89.83994% \n",
            "   1.000         100.00   10000.0000\t 91.11111%\t    89.83994% \n",
            "  10.000          10.00       0.0001\t  3.61111%\t     3.13152% \n",
            "  10.000          10.00       0.0100\t  3.61111%\t     3.13152% \n",
            "  10.000          10.00       1.0000\t 18.88889%\t    16.77105% \n",
            "  10.000          10.00     100.0000\t 91.11111%\t    89.83994% \n",
            "  10.000          10.00   10000.0000\t 91.11111%\t    89.83994% \n",
            "  10.000          20.00       0.0001\t  4.16667%\t     1.67015% \n",
            "  10.000          20.00       0.0100\t  4.16667%\t     1.67015% \n",
            "  10.000          20.00       1.0000\t 18.88889%\t    16.77105% \n",
            "  10.000          20.00     100.0000\t 91.11111%\t    89.83994% \n",
            "  10.000          20.00   10000.0000\t 91.11111%\t    89.83994% \n",
            "  10.000          50.00       0.0001\t  3.33333%\t     0.00000% \n",
            "  10.000          50.00       0.0100\t  3.61111%\t     0.13918% \n",
            "  10.000          50.00       1.0000\t 18.88889%\t    16.77105% \n",
            "  10.000          50.00     100.0000\t 91.11111%\t    89.83994% \n",
            "  10.000          50.00   10000.0000\t 91.11111%\t    89.83994% \n",
            "  10.000         100.00       0.0001\t  3.33333%\t     0.00000% \n",
            "  10.000         100.00       0.0100\t  3.61111%\t     0.13918% \n",
            "  10.000         100.00       1.0000\t 18.88889%\t    16.77105% \n",
            "  10.000         100.00     100.0000\t 91.11111%\t    89.83994% \n",
            "  10.000         100.00   10000.0000\t 91.11111%\t    89.83994% \n",
            " 100.000          10.00       0.0001\t  3.61111%\t     3.13152% \n",
            " 100.000          10.00       0.0100\t  3.61111%\t     3.13152% \n",
            " 100.000          10.00       1.0000\t 18.88889%\t    16.77105% \n",
            " 100.000          10.00     100.0000\t 91.11111%\t    89.83994% \n",
            " 100.000          10.00   10000.0000\t 91.11111%\t    89.83994% \n",
            " 100.000          20.00       0.0001\t  4.16667%\t     1.67015% \n",
            " 100.000          20.00       0.0100\t  4.16667%\t     1.67015% \n",
            " 100.000          20.00       1.0000\t 18.88889%\t    16.77105% \n",
            " 100.000          20.00     100.0000\t 91.11111%\t    89.83994% \n",
            " 100.000          20.00   10000.0000\t 91.11111%\t    89.83994% \n",
            " 100.000          50.00       0.0001\t  3.61111%\t     0.00000% \n",
            " 100.000          50.00       0.0100\t  3.88889%\t     0.06959% \n",
            " 100.000          50.00       1.0000\t 18.88889%\t    16.77105% \n",
            " 100.000          50.00     100.0000\t 91.11111%\t    89.83994% \n",
            " 100.000          50.00   10000.0000\t 91.11111%\t    89.83994% \n",
            " 100.000         100.00       0.0001\t  3.33333%\t     0.00000% \n",
            " 100.000         100.00       0.0100\t  3.88889%\t     0.06959% \n",
            " 100.000         100.00       1.0000\t 18.88889%\t    16.77105% \n",
            " 100.000         100.00     100.0000\t 91.11111%\t    89.83994% \n",
            " 100.000         100.00   10000.0000\t 91.11111%\t    89.83994% \n",
            "\n",
            "el error de test mínimo ha sido de 2.222222% con un nos valores de C, iteraciones máximas y tolerancia de : 0.100, 100.00 y 0.000100\n",
            "el error de entrenamiento mínimo ha sido de 0.000000% con un nos valores de C, iteraciones máximas y tolerancia de : 1.000, 50.00 y 0.0001\n"
          ]
        }
      ]
    },
    {
      "cell_type": "code",
      "source": [],
      "metadata": {
        "id": "kyJSBLyCLxZC"
      },
      "execution_count": null,
      "outputs": []
    }
  ],
  "metadata": {
    "kernelspec": {
      "display_name": "sin-2324",
      "language": "python",
      "name": "sin-2324"
    },
    "language_info": {
      "codemirror_mode": {
        "name": "ipython",
        "version": 3
      },
      "file_extension": ".py",
      "mimetype": "text/x-python",
      "name": "python",
      "nbconvert_exporter": "python",
      "pygments_lexer": "ipython3",
      "version": "3.8.10"
    },
    "orig_nbformat": 4,
    "colab": {
      "provenance": []
    }
  },
  "nbformat": 4,
  "nbformat_minor": 0
}